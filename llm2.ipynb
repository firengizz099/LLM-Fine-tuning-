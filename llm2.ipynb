{
  "cells": [
    {
      "cell_type": "markdown",
      "metadata": {
        "id": "fif5Dqxp9PKU"
      },
      "source": [
        "## Finetuning data: compare to pretraining and basic preparation"
      ]
    },
    {
      "cell_type": "code",
      "execution_count": null,
      "metadata": {
        "id": "JUvm5-br9Fn9"
      },
      "outputs": [],
      "source": [
        "import jsonlines\n",
        "import itertools\n",
        "import pandas as pd\n",
        "from pprint import pprint\n",
        "import datasets\n",
        "from datasets import load_dataset"
      ]
    },
    {
      "cell_type": "markdown",
      "metadata": {
        "id": "Uwx4S1Pu9YN9"
      },
      "source": [
        "## Look at pretraining data set"
      ]
    },
    {
      "cell_type": "code",
      "execution_count": null,
      "metadata": {
        "id": "taoOajkj9Uo5"
      },
      "outputs": [],
      "source": [
        "pretrained_dataset = load_dataset(\"c4\", \"en\", split=\"train\", streaming=True)\n",
        "#\"c4\" adlı veri kümesinden İngilizce dilinde eğitilmiş bir veri kümesi yükleniyor ve \"streaming=True\" ile veri kümesi akış \n",
        "# halinde yükleniyor. Bu veri kümesi, büyük bir metin veri kümesidir:"
      ]
    },
    {
      "cell_type": "code",
      "execution_count": null,
      "metadata": {
        "id": "pBArm8p69Ulb"
      },
      "outputs": [],
      "source": [
        "#Veri kümesindeki ilk 5 örnek ekrana yazdırılıyor:\n",
        "\n",
        "\n",
        "n = 5\n",
        "print(\"Pretrained dataset:\")\n",
        "top_n = itertools.islice(pretrained_dataset, n)\n",
        "for i in top_n:\n",
        "  print(i)"
      ]
    },
    {
      "cell_type": "markdown",
      "metadata": {
        "id": "Du7BNi5w9jCW"
      },
      "source": [
        "## Contrast with company finetuning dataset you will be using"
      ]
    },
    {
      "cell_type": "code",
      "execution_count": null,
      "metadata": {
        "id": "D9YV170i9Uhy"
      },
      "outputs": [],
      "source": [
        "\n",
        "#Ardından, bir dosya adı belirleniyor ve bu dosya adıyla bir JSON dosyasındaki veri okunuyor \n",
        "#ve bir veri çerçevesine (instruction_dataset_df) yükleniyor:\n",
        "filename = \"lamini_docs.jsonl\"\n",
        "instruction_dataset_df = pd.read_json(filename, lines=True)\n",
        "instruction_dataset_df"
      ]
    },
    {
      "cell_type": "markdown",
      "metadata": {
        "id": "s3SHEvPQ9re1"
      },
      "source": [
        "## Various ways of formatting your data"
      ]
    },
    {
      "cell_type": "code",
      "execution_count": null,
      "metadata": {
        "id": "fbnBmLFM9tuP"
      },
      "outputs": [],
      "source": [
        "\n",
        "#Veri çerçevesinden örnekler bir sözlüğe (examples) dönüştürülüyor:\n",
        "\n",
        "examples = instruction_dataset_df.to_dict()\n",
        "text = examples[\"question\"][0] + examples[\"answer\"][0]\n",
        "text"
      ]
    },
    {
      "cell_type": "code",
      "execution_count": null,
      "metadata": {
        "id": "Bb0NlO4V9yP0"
      },
      "outputs": [],
      "source": [
        "#Sözlükteki örneklerden metin oluşturuluyor:\n",
        "\n",
        "\n",
        "if \"question\" in examples and \"answer\" in examples:\n",
        "  text = examples[\"question\"][0] + examples[\"answer\"][0]\n",
        "elif \"instruction\" in examples and \"response\" in examples:\n",
        "  text = examples[\"instruction\"][0] + examples[\"response\"][0]\n",
        "elif \"input\" in examples and \"output\" in examples:\n",
        "  text = examples[\"input\"][0] + examples[\"output\"][0]\n",
        "else:\n",
        "  text = examples[\"text\"][0]"
      ]
    },
    {
      "cell_type": "code",
      "execution_count": null,
      "metadata": {
        "id": "51-Fnj8E90qz"
      },
      "outputs": [],
      "source": [
        "#Soru ve cevap için kullanılacak metin şablonları tanımlanıyor:\n",
        "\n",
        "\n",
        "prompt_template_qa = \"\"\"### Question:\n",
        "{question}\n",
        "\n",
        "### Answer:\n",
        "{answer}\"\"\""
      ]
    },
    {
      "cell_type": "code",
      "execution_count": null,
      "metadata": {
        "id": "P8Y-no4-92u1"
      },
      "outputs": [],
      "source": [
        "question = examples[\"question\"][0]\n",
        "answer = examples[\"answer\"][0]\n",
        "\n",
        "text_with_prompt_template = prompt_template_qa.format(question=question, answer=answer)\n",
        "text_with_prompt_template"
      ]
    },
    {
      "cell_type": "code",
      "execution_count": null,
      "metadata": {
        "id": "cfMDKH1I95Mu"
      },
      "outputs": [],
      "source": [
        "prompt_template_q = \"\"\"### Question:\n",
        "{question}\n",
        "\n",
        "### Answer:\"\"\""
      ]
    },
    {
      "cell_type": "code",
      "execution_count": null,
      "metadata": {
        "id": "bRQbL16G95Jx"
      },
      "outputs": [],
      "source": [
        "#Veri kümesindeki her örnek için soru ve cevap içeren metin örnekleri oluşturuluyor:\n",
        "\n",
        "\n",
        "num_examples = len(examples[\"question\"])\n",
        "finetuning_dataset_text_only = []\n",
        "finetuning_dataset_question_answer = []\n",
        "for i in range(num_examples):\n",
        "  question = examples[\"question\"][i]\n",
        "  answer = examples[\"answer\"][i]\n",
        "\n",
        "  text_with_prompt_template_qa = prompt_template_qa.format(question=question, answer=answer)\n",
        "  finetuning_dataset_text_only.append({\"text\": text_with_prompt_template_qa})\n",
        "\n",
        "  text_with_prompt_template_q = prompt_template_q.format(question=question)\n",
        "  finetuning_dataset_question_answer.append({\"question\": text_with_prompt_template_q, \"answer\": answer})"
      ]
    },
    {
      "cell_type": "code",
      "execution_count": null,
      "metadata": {
        "id": "8Ne5kXFv9-Zg"
      },
      "outputs": [],
      "source": [
        "#Oluşturulan metin örnekleri ekrana yazdırılıyor:\n",
        "\n",
        "\n",
        "pprint(finetuning_dataset_text_only[0])"
      ]
    },
    {
      "cell_type": "code",
      "execution_count": null,
      "metadata": {
        "id": "B9cOk8_H-AxA"
      },
      "outputs": [],
      "source": [
        "pprint(finetuning_dataset_question_answer[0])"
      ]
    },
    {
      "cell_type": "code",
      "execution_count": null,
      "metadata": {
        "id": "6DRCyi3r-DRM"
      },
      "outputs": [],
      "source": [
        "#Oluşturulan metin örnekleri bir JSON dosyasına yazılıyor:\n",
        "\n",
        "\n",
        "with jsonlines.open(f'lamini_docs_processed.jsonl', 'w') as writer:\n",
        "    writer.write_all(finetuning_dataset_question_answer)"
      ]
    },
    {
      "cell_type": "code",
      "execution_count": null,
      "metadata": {
        "id": "oZOO16-l-DOu"
      },
      "outputs": [],
      "source": [
        "#Fine-tuning için kullanılacak veri kümesi yükleniyor:\n",
        "\n",
        "finetuning_dataset_name = \"lamini/lamini_docs\"\n",
        "finetuning_dataset = load_dataset(finetuning_dataset_name)\n",
        "print(finetuning_dataset)"
      ]
    },
    {
      "cell_type": "code",
      "execution_count": null,
      "metadata": {
        "id": "HFx0ltRT-DLu"
      },
      "outputs": [],
      "source": []
    }
  ],
  "metadata": {
    "colab": {
      "provenance": []
    },
    "kernelspec": {
      "display_name": "Python 3",
      "name": "python3"
    },
    "language_info": {
      "name": "python"
    }
  },
  "nbformat": 4,
  "nbformat_minor": 0
}
